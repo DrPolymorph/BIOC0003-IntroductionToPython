{
 "cells": [
  {
   "cell_type": "markdown",
   "metadata": {},
   "source": [
    "### Choosing the correct pipette\n",
    "A decision tree in Python"
   ]
  },
  {
   "cell_type": "code",
   "execution_count": null,
   "metadata": {},
   "outputs": [],
   "source": [
    "# this is the volume in ul to pipette\n",
    "volume = 50"
   ]
  },
  {
   "cell_type": "code",
   "execution_count": null,
   "metadata": {},
   "outputs": [],
   "source": [
    "if volume > 10:\n",
    "    if volume <= 200:\n",
    "        print(\"Use a P200\")     # volume is > 10 AND volume <= 200\n",
    "    else:\n",
    "        print(\"Use a P1000\")    # volume is > 10 AND volume > 200\n",
    "else:\n",
    "    print(\"Use a P10\")          # volume is <= 10"
   ]
  },
  {
   "cell_type": "markdown",
   "metadata": {},
   "source": [
    "We can now define a function that takes the volume as a parameter and returns the correct pipette to use."
   ]
  },
  {
   "cell_type": "code",
   "execution_count": null,
   "metadata": {},
   "outputs": [],
   "source": [
    "def choose_pipette(volume):\n",
    "    if volume > 10:\n",
    "        if volume <= 200:\n",
    "            # volume is > 10 AND volume <= 200\n",
    "            return \"P200\"\n",
    "        else:\n",
    "            # volume is > 10 AND volume > 200\n",
    "            return \"P1000\"\n",
    "    else:\n",
    "        # volume is <= 10\n",
    "        return \"P10\""
   ]
  },
  {
   "cell_type": "markdown",
   "metadata": {},
   "source": [
    "If we make a list of aliquots that we need to make, we can iterate over the list and choose the correct pipette for each aliquot."
   ]
  },
  {
   "cell_type": "code",
   "execution_count": null,
   "metadata": {},
   "outputs": [],
   "source": [
    "aliquots = [5, 10, 20, 200, 150, 750]"
   ]
  },
  {
   "cell_type": "code",
   "execution_count": null,
   "metadata": {},
   "outputs": [],
   "source": [
    "for volume in aliquots:\n",
    "    pipette = choose_pipette(volume)\n",
    "    print(f\"For a volume of {volume}ul use a {pipette} pipette.\")"
   ]
  },
  {
   "cell_type": "markdown",
   "metadata": {},
   "source": [
    "### [Optional] Tasks:\n",
    "\n",
    "+ Try changing the volume to other values\n",
    "+ Try adding a P100 pipette"
   ]
  }
 ],
 "metadata": {
  "kernelspec": {
   "display_name": "Python [conda env:root] *",
   "language": "python",
   "name": "conda-root-py"
  },
  "language_info": {
   "codemirror_mode": {
    "name": "ipython",
    "version": 3
   },
   "file_extension": ".py",
   "mimetype": "text/x-python",
   "name": "python",
   "nbconvert_exporter": "python",
   "pygments_lexer": "ipython3",
   "version": "3.7.4"
  }
 },
 "nbformat": 4,
 "nbformat_minor": 2
}
