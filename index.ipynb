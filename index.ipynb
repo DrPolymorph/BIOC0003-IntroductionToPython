{
 "cells": [
  {
   "cell_type": "code",
   "execution_count": null,
   "metadata": {},
   "outputs": [],
   "source": [
    "%%html\n",
    "<script src=\"./resources/autostyle.js\"></script>"
   ]
  },
  {
   "cell_type": "markdown",
   "metadata": {},
   "source": [
    "# BIOC0003 - Introduction to Python\n",
    "Alan R. Lowe\n",
    "\n",
    "Welcome to the BIOC0003 Introduction to Python notebook. \n",
    "\n",
    "In this notebook you will use Python  to calculate some properties of an unknown protein and calculate the concentration from spectrophotometer measurements.  This will give you opportunity to use the ideas from the lectures and to develop your skills to solve a typical problem in biochemistry.\n",
    "\n",
    "You are presented with some data regarding an unknown protein (**Protein X**):\n",
    "+ The amino acid sequence\n",
    "+ The absorbance of a sample of the protein at 280 nm\n",
    "\n",
    "It's your job is to write some Python code to enable you to calculate the concentration of the protein. To do so, we need to calculate some properties of **Protein X**:\n",
    "\n",
    "+ Calculate the number of Trytophan, Tyrosine and Cysteine residues \n",
    "+ Calculate the predicted extinction coefficient \n",
    "\n",
    "\n",
    "<div class='task_red'> NOTE: You need to run the lines of code in order. </div>\n"
   ]
  },
  {
   "cell_type": "markdown",
   "metadata": {},
   "source": [
    "### Analysing the sequence of protein X\n",
    "\n",
    "Here is the sequence of the unknown protein, **Protein X**:\n",
    "\n",
    "```\n",
    "MCDKEFMWALKNGDLDEVKDYVAKGEDVNRTLEGGRKPLHYAADCGQLEILEFLLLKGADINAPDK  \n",
    "HHITPLLSAVYEGHVSCVKLLLSKGADKTVKGPDGLTAFEATDNQAIKALLQ\n",
    "```\n",
    "\n",
    "Let's start by storing this sequence as a Python variable named `sequence`:"
   ]
  },
  {
   "cell_type": "code",
   "execution_count": null,
   "metadata": {},
   "outputs": [],
   "source": [
    "sequence = \"MCDKEFMWALKNGDLDEVKDYVAKGEDVNRTLEGGRKPLHYAADCGQLEILEFLLLKGADINAPDKHHITPLLSAVYEGHVSCVKLLLSKGADKTVKGPDGLTAFEATDNQAIKALLQ\""
   ]
  },
  {
   "cell_type": "markdown",
   "metadata": {},
   "source": [
    "By using `\"` we are telling python to treat the data that has been assigned to the variable named `sequence` as a string of text. Now that we have stored the data we can use Python to calculate properties of this data.\n",
    "\n",
    "For example, how many amino acids does **Protein X** contain? We can calculate this using Python:"
   ]
  },
  {
   "cell_type": "code",
   "execution_count": null,
   "metadata": {},
   "outputs": [],
   "source": [
    "num_amino_acids = len(sequence)\n",
    "print(num_amino_acids)"
   ]
  },
  {
   "cell_type": "markdown",
   "metadata": {},
   "source": [
    "In these two lines of code, we calculate the length of the string stored in `sequence` using a special built-in function of Python, called `len`. We store the result in a new variable named `num_amino_acids`. Finally, we use the `print` function to print out the results. Try running these lines of code."
   ]
  },
  {
   "cell_type": "markdown",
   "metadata": {},
   "source": [
    "<div class='task_blue'> How many amino acids are in Protein X?</div>"
   ]
  },
  {
   "cell_type": "markdown",
   "metadata": {},
   "source": [
    "<details><summary>ANSWER</summary> There are 118 amino acids in Protein X</details>"
   ]
  },
  {
   "cell_type": "markdown",
   "metadata": {},
   "source": [
    "We can also use Python to count the number of occurences of a specific amino acid in the sequence. For example, let's count the number of Alanine (A) residues in the sequence. We can do that using the following method:"
   ]
  },
  {
   "cell_type": "code",
   "execution_count": null,
   "metadata": {},
   "outputs": [],
   "source": [
    "num_alanine = sequence.count('A')\n",
    "print(num_alanine)"
   ]
  },
  {
   "cell_type": "markdown",
   "metadata": {},
   "source": [
    "You will notice that the syntax is slightly different here. We're using a new function called `count` that is associated with the `sequence` variable. The function `count` has a single argument (in this case `'A'`), which is the string that we want to find within `sequence`. This is a special function that works with variables that are of the type `str`.  In this line of code, we create a new variable called `num_alanine` that stores the output of the `count` function applied to `sequence`. "
   ]
  },
  {
   "cell_type": "markdown",
   "metadata": {},
   "source": [
    "<div class='task_blue'>How many alanines are found in Protein X?</div>"
   ]
  },
  {
   "cell_type": "markdown",
   "metadata": {},
   "source": [
    "<details><summary>ANSWER</summary> There should be 12 Alanine residues in the sequence of Protein X</details>"
   ]
  },
  {
   "cell_type": "markdown",
   "metadata": {},
   "source": [
    "### Predicting the extinction coefficient of Protein X\n",
    "\n",
    "In order to calculate the concentration of **Protein X** we need to use the Beer-Lambert equation:\n",
    "\n",
    "\\begin{equation}\n",
    "A_{280} = \\epsilon c \\ell\n",
    "\\end{equation}\n",
    "\n",
    "Where $A_{280}$ is the absorbance of the sample at 280 nm. The concentration of the protein ($c$, Molar, $M$), the path length of the cuvette ($\\ell$, cm) in the spectrophotometer, and the molar extinction coefficient ($\\epsilon$, $M^{-1}.cm^{-1}$) are the other parameters. We can re-arrange the equation to calculate the protein concentration from the absorbance:\n",
    "\n",
    "\\begin{equation}\n",
    "c = \\frac{A_{280}}{\\epsilon\\ell}\n",
    "\\end{equation}\n",
    "\n",
    "There are now several unknowns:\n",
    "+ The absorbance at 280 nm ($A_{280}$)\n",
    "+ The path length of the cuvette in centimeters ($\\ell$)\n",
    "+ The molar extinction coefficient for **protein X** in per Molar per cm ($\\epsilon$)\n",
    "\n",
    "The absorbance is our measurement, and the path length is known ($\\ell = 1cm$), but we do not know the extinction coefficient. \n",
    "\n",
    "The extinction coefficient is a measure of how the sample attenuates light at a given wavelength, in this case in the UV spectrum at 280nm. The aromatic side chains of tyrosine and tryptophan, both contribute to the absorbance spectrum of a protein at 280nm. Cysteine also contributes significantly to absorbance at 280nm.\n",
    "\n",
    "The extinction coefficients of these three isolated amino acids are known in pure solutions:\n",
    "+ Tryptophan (5500 $M^{-1}.cm^{-1}$)\n",
    "+ Tyrosine (1490 $M^{-1}.cm^{-1}$)\n",
    "+ Cysteine (125 $M^{-1}.cm^{-1}$)"
   ]
  },
  {
   "cell_type": "markdown",
   "metadata": {},
   "source": [
    "Since know the sequence of the protein, so we can start by calculating the number of Trytophan, Tyrosine and Cysteine residues in **Protein X**."
   ]
  },
  {
   "cell_type": "markdown",
   "metadata": {},
   "source": [
    "<div class='task_green'>TASK: Use Python to calculate the number of each type of residue, storing each one in it's own variable. </div>\n",
    "\n",
    "<details><summary>HINT</summary> You can use the same principle as when calculating the number of Alanine residues </details>"
   ]
  },
  {
   "cell_type": "code",
   "execution_count": null,
   "metadata": {},
   "outputs": [],
   "source": [
    "num_tryptophan ="
   ]
  },
  {
   "cell_type": "code",
   "execution_count": null,
   "metadata": {},
   "outputs": [],
   "source": [
    "num_tyrosine = "
   ]
  },
  {
   "cell_type": "code",
   "execution_count": null,
   "metadata": {},
   "outputs": [],
   "source": [
    "num_cysteine = "
   ]
  },
  {
   "cell_type": "markdown",
   "metadata": {},
   "source": [
    "<div class='task_green'>TASK: Print out how many of each type of amino acid there is.</div>\n",
    "<details><summary>ANSWER</summary> nW = 1, nY = 3, nC = 3</details>"
   ]
  },
  {
   "cell_type": "code",
   "execution_count": null,
   "metadata": {},
   "outputs": [],
   "source": [
    "print(num_tryptophan)"
   ]
  },
  {
   "cell_type": "code",
   "execution_count": null,
   "metadata": {},
   "outputs": [],
   "source": []
  },
  {
   "cell_type": "code",
   "execution_count": null,
   "metadata": {},
   "outputs": [],
   "source": []
  },
  {
   "cell_type": "markdown",
   "metadata": {},
   "source": [
    "For a pure sample of a protein, we can calculate the *predicted* extinction coefficient using the following equation:\n",
    "\n",
    "\\begin{equation}\n",
    "\\epsilon = (nW \\times 5500) + (nY \\times 1490) + (nC \\times 125)\n",
    "\\end{equation}\n",
    "\n",
    "Where $nW$ is the number of Tryptophan (W) residues, $nY$ number of tyrosine residues and $nC$ the number of cysteine residues. Now that you have a way to calculate the number of each type of amino acid in the sequence, we can write a function to calculate the predicted extinction coefficient for us."
   ]
  },
  {
   "cell_type": "code",
   "execution_count": null,
   "metadata": {},
   "outputs": [],
   "source": [
    "def estimate_extinction_coefficient(num_trp, num_tyr, num_cys):\n",
    "    # epsilon = (nW x 5500) + (nY x 1490) + (nC x 125) \n",
    "    epsilon = (num_trp * 5500) + (num_tyr * 1490) + (num_cys * 125)\n",
    "    return epsilon"
   ]
  },
  {
   "cell_type": "markdown",
   "metadata": {},
   "source": [
    "In the above block of code, we have defined a new function using the `def` keyword. Our function is named `estimate_extinction_coefficient` and it has three arguments as an input, the number of tryptophans, tyrosines and cysteines in the protein. The function calculates the value of the extinction coefficent in `epsilon` and returns it."
   ]
  },
  {
   "cell_type": "code",
   "execution_count": null,
   "metadata": {},
   "outputs": [],
   "source": [
    "epsilon = estimate_extinction_coefficient(1, 3, 3)\n",
    "print(epsilon)"
   ]
  },
  {
   "cell_type": "markdown",
   "metadata": {},
   "source": [
    "<div class='task_green'>TASK: Try calling the function using your num_trypothan, num_tyrosine and num_cysteine variables as input. Do you get the same answer?</div>"
   ]
  },
  {
   "cell_type": "code",
   "execution_count": null,
   "metadata": {},
   "outputs": [],
   "source": []
  },
  {
   "cell_type": "markdown",
   "metadata": {},
   "source": [
    "### Calculating the protein concentration\n",
    "\n",
    "We can now write a function to calculate the protein concentration using the Beer-Lambert law:\n",
    "\n",
    "\\begin{equation}\n",
    "c = \\frac{A_{280}}{\\epsilon\\ell}\n",
    "\\end{equation}"
   ]
  },
  {
   "cell_type": "markdown",
   "metadata": {},
   "source": [
    "<div class='task_green'>TASK: Complete the function below to calculate the concentration of the protein</div>"
   ]
  },
  {
   "cell_type": "code",
   "execution_count": null,
   "metadata": {},
   "outputs": [],
   "source": [
    "def calculate_protein_concentration(absorbance, epsilon, path_length):\n",
    "    # c = A / (e*l)\n",
    "    concentration = \n",
    "    return concentration"
   ]
  },
  {
   "cell_type": "markdown",
   "metadata": {},
   "source": [
    "Now that you have defined a function, let's calculate the protein concentration using the following values:\n",
    "+ $A_{280}$ = 0.1\n",
    "+ $\\ell$ = 1 cm"
   ]
  },
  {
   "cell_type": "markdown",
   "metadata": {},
   "source": [
    "<div class='task_green'> TASK: Calculate the concentration of Protein X</div>"
   ]
  },
  {
   "cell_type": "code",
   "execution_count": null,
   "metadata": {},
   "outputs": [],
   "source": [
    "concentration = "
   ]
  },
  {
   "cell_type": "code",
   "execution_count": null,
   "metadata": {},
   "outputs": [],
   "source": [
    "print(concentration)"
   ]
  },
  {
   "cell_type": "markdown",
   "metadata": {},
   "source": [
    "You have now completed the excercise.\n",
    "\n",
    "# End of excerise"
   ]
  }
 ],
 "metadata": {
  "kernelspec": {
   "display_name": "Python [conda env:root] *",
   "language": "python",
   "name": "conda-root-py"
  },
  "language_info": {
   "codemirror_mode": {
    "name": "ipython",
    "version": 3
   },
   "file_extension": ".py",
   "mimetype": "text/x-python",
   "name": "python",
   "nbconvert_exporter": "python",
   "pygments_lexer": "ipython3",
   "version": "3.7.4"
  }
 },
 "nbformat": 4,
 "nbformat_minor": 2
}
